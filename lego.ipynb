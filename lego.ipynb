{
 "cells": [
  {
   "cell_type": "code",
   "execution_count": 218,
   "metadata": {},
   "outputs": [
    {
     "data": {
      "application/vnd.jupyter.widget-view+json": {
       "model_id": "2b589d412117463bb0e0d79dfabb2df2",
       "version_major": 2,
       "version_minor": 0
      },
      "text/plain": [
       "VBox(children=(HTML(value=''), Renderer(background='#cccc88', background_opacity=0.0, camera=PerspectiveCamera…"
      ]
     },
     "metadata": {},
     "output_type": "display_data"
    }
   ],
   "source": [
    "#1 \n",
    "\n",
    "from solid import *\n",
    "from solid.utils import *\n",
    "import viewscad\n",
    "\n",
    "r = viewscad.Renderer(openscad_exec='C:\\Program Files\\OpenSCAD\\openscad.exe')\n",
    "\n",
    "def beam(width, length):\n",
    "    \n",
    "    #BASE\n",
    "    a = 7.38 #diameter of circle for base\n",
    "    height = 7.76 #height of base\n",
    "    c1 = cylinder(r=a/2,h=7.76)\n",
    "    c2 = translate([((7.97) * (width-1)),0,0])(c1)\n",
    "    c3 = translate([0,((7.97) * (length-1)),0])(c2)\n",
    "    c4 = translate([-((7.97) * (width-1)),0,0])(c3)\n",
    "    c5 = translate([0,-((7.97) * (length-1)),0])(c4)\n",
    "    base = hull()(c1,c2,c3,c4,c5)\n",
    "    \n",
    "    #first holes \n",
    "    #diameter of hole: 4.8 -> 5.4\n",
    "    inner = 0\n",
    "    for ii in range (width):\n",
    "        inner = inner + translate([0,7.97*ii,0])(cylinder(r=(5.4/2), h=7.76))\n",
    "    \n",
    "    #rest of holes\n",
    "    for j in range(length):\n",
    "        for i in range(1,width):\n",
    "            inner = inner + translate([7.97*i,7.97*j,0])(cylinder(r=(5.4/2), h=7.76))   \n",
    "\n",
    "    block = base - hole()(inner)\n",
    "    #print(scad_render(block))\n",
    "    r.render(block)  \n",
    "beam(5,1)"
   ]
  },
  {
   "cell_type": "code",
   "execution_count": 227,
   "metadata": {
    "scrolled": false
   },
   "outputs": [
    {
     "data": {
      "application/vnd.jupyter.widget-view+json": {
       "model_id": "3af5a1a4aa7740a6887ad91f6df164c2",
       "version_major": 2,
       "version_minor": 0
      },
      "text/plain": [
       "VBox(children=(HTML(value=''), Renderer(background='#cccc88', background_opacity=0.0, camera=PerspectiveCamera…"
      ]
     },
     "metadata": {},
     "output_type": "display_data"
    }
   ],
   "source": [
    "#2\n",
    "#all legotechnic units from example drawing converted: mm -> in\n",
    "from solid import *\n",
    "from solid.utils import *\n",
    "import viewscad\n",
    "\n",
    "r = viewscad.Renderer(openscad_exec='C:\\Program Files\\OpenSCAD\\openscad.exe')\n",
    "\n",
    "def motor(standard):\n",
    "    #inches\n",
    "    if standard == 8:\n",
    "        shaft_d = 0.157\n",
    "        bolt = 0.118 #bolt hole size\n",
    "        separation = 0.630 #separation distance between bolts\n",
    "        pilot_d = .590\n",
    "    elif standard > 8 and standard < 18:\n",
    "        shaft_d = 0.197\n",
    "        bolt = 0.157 \n",
    "        pilot_d = .866\n",
    "        if standard ==  11:\n",
    "            separation = 0.905\n",
    "        elif standard == 14:\n",
    "            separation = 1.025\n",
    "        else:\n",
    "            separation = 1.220\n",
    "    elif standard == 23:\n",
    "        shaft_d = 0.25\n",
    "        bolt = 0.195\n",
    "        separation = 1.854\n",
    "        pilot_d = 1.5\n",
    "    elif standard == 34:\n",
    "        shaft_d = 0.375\n",
    "        bolt = 0.218\n",
    "        separation = 2.744\n",
    "        pilot_d = 2.875 \n",
    "    elif standard == 42:\n",
    "        shaft_d = 0.625\n",
    "        bolt = 0.281\n",
    "        separation = 3.500\n",
    "        pilot_d = 3.5\n",
    "        \n",
    "    lego_od = 6.2 * .03937 #6.2 mm -> 0.03937 = in conversion\n",
    "    lego_id = 5.4 * .03937\n",
    "    size = standard / 10\n",
    "    height = .6\n",
    "    length = separation + (2 *((bolt/2)+(lego_od/2))) #old code: just separation\n",
    "    \n",
    "    #base\n",
    "    c1 = cylinder(r=size - separation,h=height)\n",
    "    c2 = translate([length,0,0])(c1)\n",
    "    c3 = translate([0,length,0])(c2)\n",
    "    c4 = translate([-length,0,0])(c3)\n",
    "    c5 = translate([0,-length,0])(c4)\n",
    "    base = hull()(c1,c2,c3,c4,c5)\n",
    "    \n",
    "    #HOLES\n",
    "    \n",
    "    #center hole\n",
    "    #shaft = translate([length/2, length/2,0])(cylinder(r = shaft_d/2, h = height))\n",
    "    shaft = translate([length/2, length/2,0])(cylinder(r = pilot_d/2, h = height))\n",
    "    #pilot diameter make hole bigger\n",
    "    \n",
    "    #bolt holes \n",
    "    z1 = translate([(length/2)-(separation/2),(length/2) - (separation/2),0])(cylinder(r=bolt/2,h=height)) #change this\n",
    "    z2 = translate([(separation),0,0])(z1) #this is fine\n",
    "    z3 = translate([0,(separation),0])(z2)\n",
    "    z4 = translate([-(separation),0,0])(z3)    \n",
    "    base = base - shaft -z1-z2-z3-z4\n",
    "    #r.render(base)\n",
    "  \n",
    "    #lego mount\n",
    "    #check the mount something is off for bigger sizes\n",
    "    mount = (rotate(90, [0,1,0]))(cylinder(r = 2.7 * .03937, h = 1))\n",
    "    mount = (translate([length + ((size - separation)/2),length/2,height/2]))(mount)\n",
    "    mount2 = (rotate(270, [0,1,0]))(cylinder(r = 2.7 * .03937, h = 1))\n",
    "    mount2 = (translate([-(size - separation)/2,length/2,height/2]))(mount2)\n",
    "    mount = mount + mount2\n",
    "    r.render(base + mount)\n",
    "motor(17)"
   ]
  },
  {
   "cell_type": "code",
   "execution_count": null,
   "metadata": {},
   "outputs": [],
   "source": [
    "#3\n",
    "# adapter = motor shaft + lego shaft\n",
    "def adapter(shaftsize):\n",
    "    \n",
    "    legosize = 4.8 #diameter #change to 5.4...? \n",
    "    height = 7.76\n",
    "    outerlego = cylinder(r=legosize/2, h=height)\n",
    "    #legoadapt = cylinder(r=(legosize-1)/2, h=height)\n",
    "    legoadapt = translate([0,0,height])(outerlego)# - hole()(legoadapt))\n",
    "    if shaftsize < legosize: \n",
    "        outershaft = cylinder(r=(legosize + 1)/2, h=height) #this is bigger than outer from previous loop\n",
    "        shaftadapt = (cylinder(r=shaftsize/2, h=height/2))\n",
    "        shaftadapt = (outershaft - hole()(shaftadapt))\n",
    "        r.render(legoadapt + shaftadapt)\n",
    "    elif shaftsize > legosize:\n",
    "        outershaft = cylinder(r=(shaftsize + 1)/2, h=height) #this is bigger than outer from previous loop\n",
    "        shaftadapt = (cylinder(r=shaftsize/2, h=height/2))\n",
    "        shaftadapt = (outershaft - hole()(shaftadapt))\n",
    "        r.render(legoadapt + shaftadapt)\n",
    "    else:\n",
    "        outershaft = cylinder(r=(shaftsize + 1)/2, h=height) #this is bigger than outer from previous loop\n",
    "        shaftadapt = (cylinder(r=shaftsize/2, h=height/2))\n",
    "        shaftadapt = (outershaft - hole()(shaftadapt))\n",
    "        r.render(legoadapt + shaftadapt)\n",
    "adapter(7)         \n",
    "\n"
   ]
  }
 ],
 "metadata": {
  "kernelspec": {
   "display_name": "Python 3",
   "language": "python",
   "name": "python3"
  },
  "language_info": {
   "codemirror_mode": {
    "name": "ipython",
    "version": 3
   },
   "file_extension": ".py",
   "mimetype": "text/x-python",
   "name": "python",
   "nbconvert_exporter": "python",
   "pygments_lexer": "ipython3",
   "version": "3.7.3"
  }
 },
 "nbformat": 4,
 "nbformat_minor": 2
}
