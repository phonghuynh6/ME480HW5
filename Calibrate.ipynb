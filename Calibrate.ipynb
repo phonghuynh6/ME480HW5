{
 "cells": [
  {
   "cell_type": "code",
   "execution_count": 9,
   "metadata": {},
   "outputs": [
    {
     "data": {
      "application/vnd.jupyter.widget-view+json": {
       "model_id": "52199ebbb4854abdb13eff5d2becb90d",
       "version_major": 2,
       "version_minor": 0
      },
      "text/plain": [
       "VBox(children=(HTML(value=''), Renderer(background='#cccc88', background_opacity=0.0, camera=PerspectiveCamera…"
      ]
     },
     "metadata": {},
     "output_type": "display_data"
    }
   ],
   "source": [
    "#1A\n",
    "#cylinder with hole\n",
    "\n",
    "from solid import *\n",
    "from solid.utils import *\n",
    "import viewscad\n",
    "\n",
    "r = viewscad.Renderer(openscad_exec='C:\\Program Files\\OpenSCAD\\openscad.exe')\n",
    "\n",
    "pipe_or = 10\n",
    "pipe_ir = 5\n",
    "seg_length = 10\n",
    "outer = cylinder(r=(pipe_or), h=seg_length)\n",
    "inner = cylinder(r=(pipe_ir), h=seg_length)\n",
    "pipe_a = outer - hole()(inner)\n",
    "r.render(pipe_a)"
   ]
  },
  {
   "cell_type": "code",
   "execution_count": 10,
   "metadata": {},
   "outputs": [
    {
     "data": {
      "application/vnd.jupyter.widget-view+json": {
       "model_id": "b58d5629e1bf4554af03e997d5af677b",
       "version_major": 2,
       "version_minor": 0
      },
      "text/plain": [
       "VBox(children=(HTML(value=''), Renderer(background='#cccc88', background_opacity=0.0, camera=PerspectiveCamera…"
      ]
     },
     "metadata": {},
     "output_type": "display_data"
    }
   ],
   "source": [
    "#1B\n",
    "#1 inner, 1 outer\n",
    "\n",
    "seg_length = 10\n",
    "def cylinderhole(pipe_id, pipe_od):\n",
    "    outer = cylinder(r=pipe_od, h=seg_length)\n",
    "    inner = cylinder(r=pipe_id, h=seg_length)\n",
    "    pipe_a = outer - hole()(inner)\n",
    "    r.render(pipe_a)  \n",
    "    \n",
    "cylinderhole(5,20)    "
   ]
  },
  {
   "cell_type": "code",
   "execution_count": 11,
   "metadata": {},
   "outputs": [
    {
     "data": {
      "application/vnd.jupyter.widget-view+json": {
       "model_id": "dc1e1b03a57741bb8dc2f6372672e589",
       "version_major": 2,
       "version_minor": 0
      },
      "text/plain": [
       "VBox(children=(HTML(value=''), Renderer(background='#cccc88', background_opacity=0.0, camera=PerspectiveCamera…"
      ]
     },
     "metadata": {},
     "output_type": "display_data"
    }
   ],
   "source": [
    "#1C\n",
    "#list of inner diameters, wall thickness\n",
    "\n",
    "seg_length = 4\n",
    "def cylinderhole(pipe_id, thickness):\n",
    "    pipe = 0\n",
    "    spacing = 0\n",
    "    inner = pipe_id[0]\n",
    "    outer = inner + (2*thickness)\n",
    "\n",
    "    #drawing a cylinder\n",
    "    inner_cy = cylinder(r=(inner/2), h=seg_length)\n",
    "    outer_cy = cylinder(r=(outer/2), h=seg_length)\n",
    "\n",
    "    pipe = (outer_cy - hole()(inner_cy)) \n",
    "    for i in range(1,len(pipe_id)):\n",
    "        inner = pipe_id[i]\n",
    "        outer = inner + (2*thickness)\n",
    "        \n",
    "        #drawing a cylinder\n",
    "        inner_cy = cylinder(r=(inner/2), h=seg_length)\n",
    "        outer_cy = cylinder(r=(outer/2), h=seg_length)\n",
    "        \n",
    "        spacing = spacing + (pipe_id[i-1]/2 + pipe_id[i]/2 + (3*thickness/2))\n",
    "        pipe_a = translate([0,spacing,0])(outer_cy - hole()(inner_cy)) \n",
    "        \n",
    "        pipe = pipe + pipe_a\n",
    "    r.render(pipe) \n",
    "cylinderhole([1,2,3],2)"
   ]
  },
  {
   "cell_type": "code",
   "execution_count": 12,
   "metadata": {},
   "outputs": [
    {
     "data": {
      "application/vnd.jupyter.widget-view+json": {
       "model_id": "617af1784abe4d2b89c632742ba85eef",
       "version_major": 2,
       "version_minor": 0
      },
      "text/plain": [
       "VBox(children=(HTML(value=''), Renderer(background='#cccc88', background_opacity=0.0, camera=PerspectiveCamera…"
      ]
     },
     "metadata": {},
     "output_type": "display_data"
    }
   ],
   "source": [
    "#2B \n",
    "#function: list of diameters, seperation distance, height = input\n",
    "#output: generates cylindrical posts, connect them to common base\n",
    "\n",
    "from solid import *\n",
    "from solid.utils import *\n",
    "import viewscad\n",
    "\n",
    "r = viewscad.Renderer(openscad_exec='C:\\Program Files\\OpenSCAD\\openscad.exe')\n",
    "\n",
    "def cylinderposts(diameters, distance, height):\n",
    "    \n",
    "    #BASE\n",
    "    a = diameters[0] + 2 #diameter of circle for base\n",
    "    b = (1/2)*height #height of base\n",
    "    c1 = cylinder(r=a/2,h=b)\n",
    "    c2 = translate([0,distance*(len(diameters)-1),0])(c1)\n",
    "    y = hull()(c1,c2)\n",
    "    \n",
    "    #CYLINDERS\n",
    "    \n",
    "    #first post\n",
    "    pipe = 0\n",
    "    spacing = 0\n",
    "    inner = diameters[0]\n",
    "    pipe = translate([0,0,b])(cylinder(r=(inner/2), h=height))\n",
    "    \n",
    "    #other posts\n",
    "    for i in range(1,len(diameters)):\n",
    "        piece = cylinder(r=(diameters[i]/2), h=height)\n",
    "        spacing = spacing + distance\n",
    "        pipe_a = translate([0,spacing,2])(piece) \n",
    "        pipe = pipe + pipe_a\n",
    "    r.render(pipe + y) \n",
    "\n",
    "cylinderposts([3,3,3,3,3],7,5) "
   ]
  },
  {
   "cell_type": "code",
   "execution_count": null,
   "metadata": {},
   "outputs": [],
   "source": []
  }
 ],
 "metadata": {
  "kernelspec": {
   "display_name": "Python 3",
   "language": "python",
   "name": "python3"
  },
  "language_info": {
   "codemirror_mode": {
    "name": "ipython",
    "version": 3
   },
   "file_extension": ".py",
   "mimetype": "text/x-python",
   "name": "python",
   "nbconvert_exporter": "python",
   "pygments_lexer": "ipython3",
   "version": "3.7.3"
  }
 },
 "nbformat": 4,
 "nbformat_minor": 4
}
