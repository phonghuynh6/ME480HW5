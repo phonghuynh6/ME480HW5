{
 "cells": [
  {
   "cell_type": "code",
   "execution_count": 63,
   "metadata": {},
   "outputs": [
    {
     "data": {
      "application/vnd.jupyter.widget-view+json": {
       "model_id": "17def3086d6041469e7c6ea8152b6e64",
       "version_major": 2,
       "version_minor": 0
      },
      "text/plain": [
       "VBox(children=(HTML(value=''), Renderer(background='#cccc88', background_opacity=0.0, camera=PerspectiveCamera…"
      ]
     },
     "metadata": {},
     "output_type": "display_data"
    }
   ],
   "source": [
    "from solid import *\n",
    "from solid.utils import *\n",
    "import viewscad\n",
    "\n",
    "r = viewscad.Renderer(openscad_exec='C:\\Program Files\\OpenSCAD\\openscad.exe')\n",
    "\n",
    "from math import *\n",
    "import numpy as np\n",
    "\n",
    "#TRANSFORMATIONS\n",
    "#1A\n",
    "#make a rotation matrix: [Z-X'-Z\"] - [20, 10, 30]\n",
    "#apply to unit cube\n",
    "\n",
    "c = cube(size = [1,1,1], center = True)\n",
    "\n",
    "# z\" - 20\n",
    "angle1 = pi/9 #rad or degrees?\n",
    "z30 = [[cos(angle1), -sin(angle1), 0, 0],\n",
    " [sin(angle1), cos(angle1), 0, 0],\n",
    " [0, 0, 1, 0],\n",
    " [0, 0, 0, 1]]\n",
    "thing = multmatrix(z30)(c)\n",
    "\n",
    "# x' - 10\n",
    "angle2 = pi/18\n",
    "x10 = [[1, 0, 0, 0],\n",
    " [0, cos(angle2), -sin(angle2), 0],\n",
    " [0, sin(angle2), cos(angle2), 0],\n",
    " [0, 0, 0, 1]]\n",
    "thing = multmatrix(x10)(thing)\n",
    "\n",
    "# z - 30\n",
    "angle3 = pi/6\n",
    "z20 = [[cos(angle3), -sin(angle3), 0, 0],\n",
    " [sin(angle3), cos(angle3), 0, 0],\n",
    " [0, 0, 1, 0],\n",
    " [0, 0, 0, 1]]\n",
    "thing = multmatrix(z20)(thing)\n",
    "\n",
    "r.render(thing)"
   ]
  },
  {
   "cell_type": "code",
   "execution_count": 69,
   "metadata": {},
   "outputs": [
    {
     "data": {
      "application/vnd.jupyter.widget-view+json": {
       "model_id": "13bbc1255964461f97d4c959f18485df",
       "version_major": 2,
       "version_minor": 0
      },
      "text/plain": [
       "VBox(children=(HTML(value=''), Renderer(background='#cccc88', background_opacity=0.0, camera=PerspectiveCamera…"
      ]
     },
     "metadata": {},
     "output_type": "display_data"
    }
   ],
   "source": [
    "#TRANSFORMATIONS\n",
    "#1B \n",
    "#Apply the same transformation but around [5,5,0]\n",
    "\n",
    "c = translate([5,5,0])(cube(size = [1,1,1], center = True))\n",
    "\n",
    "# z\" - 20\n",
    "angle1 = pi/9\n",
    "z30 = [[cos(angle1), -sin(angle1), 0, 0],\n",
    " [sin(angle1), cos(angle1), 0, 0],\n",
    " [0, 0, 1, 0],\n",
    " [0, 0, 0, 1]]\n",
    "thing = multmatrix(z30)(c)\n",
    "\n",
    "# x' - 10\n",
    "angle2 = pi/18\n",
    "x10 = [[1, 0, 0, 0],\n",
    " [0, cos(angle2), -sin(angle2), 0],\n",
    " [0, sin(angle2), cos(angle2), 0],\n",
    " [0, 0, 0, 1]]\n",
    "thing = multmatrix(x10)(thing)\n",
    "\n",
    "# z - 30\n",
    "angle3 = pi/6\n",
    "z20 = [[cos(angle3), -sin(angle3), 0, 0],\n",
    " [sin(angle3), cos(angle3), 0, 0],\n",
    " [0, 0, 1, 0],\n",
    " [0, 0, 0, 1]]\n",
    "thing = multmatrix(z20)(thing)\n",
    "\n",
    "thing = translate([-5,-5,0])(thing)\n",
    "r.render(thing)"
   ]
  },
  {
   "cell_type": "code",
   "execution_count": 67,
   "metadata": {},
   "outputs": [
    {
     "data": {
      "application/vnd.jupyter.widget-view+json": {
       "model_id": "f12458cccf96470c9dc182c49d30a873",
       "version_major": 2,
       "version_minor": 0
      },
      "text/plain": [
       "VBox(children=(HTML(value=''), Renderer(background='#cccc88', background_opacity=0.0, camera=PerspectiveCamera…"
      ]
     },
     "metadata": {},
     "output_type": "display_data"
    },
    {
     "data": {
      "application/vnd.jupyter.widget-view+json": {
       "model_id": "3ebc3e49c6594ff18a8d1b1e21afd60f",
       "version_major": 2,
       "version_minor": 0
      },
      "text/plain": [
       "VBox(children=(HTML(value=''), Renderer(background='#cccc88', background_opacity=0.0, camera=PerspectiveCamera…"
      ]
     },
     "metadata": {},
     "output_type": "display_data"
    },
    {
     "data": {
      "application/vnd.jupyter.widget-view+json": {
       "model_id": "515bad3d082444e6ac5cc938f67fb2a1",
       "version_major": 2,
       "version_minor": 0
      },
      "text/plain": [
       "VBox(children=(HTML(value=''), Renderer(background='#cccc88', background_opacity=0.0, camera=PerspectiveCamera…"
      ]
     },
     "metadata": {},
     "output_type": "display_data"
    }
   ],
   "source": [
    "#TRANSFORMATIONS\n",
    "#1C\n",
    "#Take a unit cube, and apply a shear transformation where b = 0.5 \n",
    "#in the x direction, then y direction, then z direction. Render the structure after each shear.\n",
    "\n",
    "c = cube(1)\n",
    "\n",
    "b = 0.5\n",
    "\n",
    "#shear x = [[1,b],[0,1]]\n",
    "shear_x = [[1, b, 0, 0],\n",
    "           [0, 1, 0, 0],\n",
    "           [0, 0, 1, 0],\n",
    "           [0, 0, 0, 1]]\n",
    "total_shear = multmatrix(shear_x)(c)\n",
    "r.render(total_shear)\n",
    "\n",
    "#shear y = [[1,0],[b,1]]\n",
    "shear_y = [[1, 0, 0, 0],\n",
    "           [b, 1, 0, 0],\n",
    "           [0, 0, 1, 0],\n",
    "           [0, 0, 0, 1]]\n",
    "total_shear = multmatrix(shear_y)(total_shear)\n",
    "r.render(total_shear)\n",
    "\n",
    "#shear z = ...?\n",
    "shear_z = [[1, 0, 0, 0],\n",
    "           [0, 1, 0, 0],\n",
    "           [0, b, 1, 0],\n",
    "           [0, 0, 0, 1]]\n",
    "total_shear = multmatrix(shear_z)(total_shear)\n",
    "\n",
    "r.render(total_shear)"
   ]
  }
 ],
 "metadata": {
  "kernelspec": {
   "display_name": "Python 3",
   "language": "python",
   "name": "python3"
  },
  "language_info": {
   "codemirror_mode": {
    "name": "ipython",
    "version": 3
   },
   "file_extension": ".py",
   "mimetype": "text/x-python",
   "name": "python",
   "nbconvert_exporter": "python",
   "pygments_lexer": "ipython3",
   "version": "3.7.3"
  }
 },
 "nbformat": 4,
 "nbformat_minor": 2
}
